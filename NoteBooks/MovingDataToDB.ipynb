{
 "cells": [
  {
   "attachments": {},
   "cell_type": "markdown",
   "metadata": {},
   "source": [
    "# Import dependencies"
   ]
  },
  {
   "cell_type": "code",
   "execution_count": 2,
   "metadata": {},
   "outputs": [],
   "source": [
    "import os\n",
    "import sys\n",
    "import pandas as pd\n",
    "import re\n",
    "import pickle\n",
    "import ast\n",
    "\n",
    "# Obtener la ruta del directorio padre\n",
    "parent_path = os.path.abspath(os.path.join(os.getcwd(), \"..\"))\n",
    "# Añadir la ruta del directorio padre al path de Python\n",
    "sys.path.append(parent_path)\n",
    "sys.path.append(os.path.join(parent_path, \"MongoDB\"))\n",
    "from connect import DatabaseTes\n",
    "from actions import DataActions\n",
    "from dataStructure import *"
   ]
  },
  {
   "attachments": {},
   "cell_type": "markdown",
   "metadata": {},
   "source": [
    "# Read data"
   ]
  },
  {
   "attachments": {},
   "cell_type": "markdown",
   "metadata": {},
   "source": [
    "## Read source excel"
   ]
  },
  {
   "cell_type": "code",
   "execution_count": 3,
   "metadata": {},
   "outputs": [],
   "source": [
    "PATH_EXCEL = os.path.join(parent_path,'rawData','TES3Z.xlsx')\n",
    "df_excel = pd.read_excel(PATH_EXCEL,index_col=0)"
   ]
  },
  {
   "cell_type": "code",
   "execution_count": 4,
   "metadata": {},
   "outputs": [],
   "source": [
    "data_path = os.path.join(parent_path,'OutputData')\n",
    "files = os.listdir(data_path)\n",
    "file = [f for f in files if 'df_raw' in f][0]\n",
    "file_list = [f for f in files if 'list' in f][0]\n",
    "file_dict = [f for f in files if 'dict' in f][0]\n",
    "df_file = os.path.join(data_path,file)\n",
    "list_path = os.path.join(data_path,file_list)\n",
    "dict_path = os.path.join(data_path,file_dict)\n",
    "\n",
    "with open(df_file, 'rb') as handle:\n",
    "    df = pickle.load(handle)\n",
    "\n",
    "with open(list_path, 'rb') as handle:\n",
    "    list_data = pickle.load(handle)\n",
    "\n",
    "with open(dict_path, 'rb') as handle:\n",
    "    dict_data = pickle.load(handle)\n"
   ]
  },
  {
   "attachments": {},
   "cell_type": "markdown",
   "metadata": {},
   "source": [
    "# Preparing Data"
   ]
  },
  {
   "attachments": {},
   "cell_type": "markdown",
   "metadata": {},
   "source": [
    "## New document"
   ]
  },
  {
   "cell_type": "code",
   "execution_count": 5,
   "metadata": {},
   "outputs": [],
   "source": [
    "new_tes = []\n",
    "for n, row in df.iterrows():\n",
    "    var = Tes(\n",
    "        tesName = row['tesName'],\n",
    "        tags = list(row['tags']),\n",
    "        fabrication = Fabrication(\n",
    "            wafer = Wafer(\n",
    "                waferName = row['tesName'].split('_')[0],\n",
    "                material = 'Si',\n",
    "                orientation = '100',\n",
    "                divisions = ['Q1','Q2','Q3','Q4'],\n",
    "                chipsOnWafer= [f'Chip_{i}' for i in range(23,77)],\n",
    "                image = os.path.join(parent_path,'Images','wafer_3Z.jpg')\n",
    "                ),\n",
    "            absorber = None if row['absorber'] == 'no' else [Layer(\n",
    "                    material = 'Au',\n",
    "                    process = 'electroplating',\n",
    "                    orintation = 'amorphous',\n",
    "                    thickness = PairValueUnit(quantity = 2, units = 'um'),\n",
    "                    width = PairValueUnit(quantity = 240, units = 'um'),\n",
    "                    length = PairValueUnit(quantity = 240, units = 'um')\n",
    "                ),Layer(\n",
    "                    material = 'Bi',\n",
    "                    process = 'electroplating',\n",
    "                    orintation = 'amorphous',\n",
    "                    thickness = PairValueUnit(quantity = 3.5, units = 'um'),\n",
    "                    width = PairValueUnit(quantity = 240, units = 'um'),\n",
    "                    length = PairValueUnit(quantity = 240, units = 'um')\n",
    "                )],\n",
    "            membrane = None if row['membrane'] == 'no' else Layer(\n",
    "                    material = 'Si3N4',\n",
    "                    process = 'Sputtering',\n",
    "                    orintation = 'amorphous',\n",
    "                    thickness = PairValueUnit(quantity = 0.5, units = 'um'),\n",
    "                    width = PairValueUnit(quantity = 250, units = 'um'),\n",
    "                    length = PairValueUnit(quantity = 250, units = 'um')\n",
    "                ),\n",
    "            pads = [Pads(\n",
    "                material = 'Mo',\n",
    "                orientation = 'amorphous',\n",
    "                process = 'sputtering-dc',\n",
    "                thickness = PairValueUnit(quantity = 15, units = 'um') \n",
    "            ),Pads(\n",
    "                material = 'Nb',\n",
    "                orientation = 'amorphous',\n",
    "                process = 'sputtering-dc',\n",
    "                thickness = PairValueUnit(quantity = 0.15, units = 'um') \n",
    "            )],\n",
    "            stack = [Layer(\n",
    "                    material = 'Mo',\n",
    "                    process = 'sputtering-dc',\n",
    "                    orintation = 'amorphous',\n",
    "                    thickness = PairValueUnit(quantity = row['stackMoT'], units = 'nm'),\n",
    "                    width = PairValueUnit(quantity = row['stackw'], units = 'um'),\n",
    "                    length = PairValueUnit(quantity = row['stackl'], units = 'um')\n",
    "                ),Layer(\n",
    "                    material = 'Au',\n",
    "                    process = 'sputtering-dc',\n",
    "                    orintation = 'amorphous',\n",
    "                    thickness = PairValueUnit(quantity = row['stackAu1T'], units = 'nm'),\n",
    "                    width = PairValueUnit(quantity = row['stackw'], units = 'um'),\n",
    "                    length = PairValueUnit(quantity = row['stackl'], units = 'um')\n",
    "                ),Layer(\n",
    "                    material = 'Au',\n",
    "                    process = 'e-beam_evaporation',\n",
    "                    orintation = 'amorphous',\n",
    "                    thickness = PairValueUnit(quantity = row['stackAu2T'], units = 'nm'),\n",
    "                    width = PairValueUnit(quantity = row['stackw'], units = 'um'),\n",
    "                    length = PairValueUnit(quantity = row['stackl'], units = 'um')\n",
    "                )]\n",
    "        )\n",
    "    ).dict()\n",
    "    new_tes.append(var)"
   ]
  },
  {
   "cell_type": "code",
   "execution_count": 5,
   "metadata": {},
   "outputs": [],
   "source": [
    "faltandatos = []\n",
    "for n, row in df.iterrows():\n",
    "    for j, caracteristicas in enumerate(row['caracteristicas']):\n",
    "        for loop in caracteristicas:\n",
    "            try:\n",
    "                if row['tags'][1] == 'Funcional':\n",
    "                    a = dict_data[row['tesName']]\n",
    "            except Exception as e:\n",
    "                #print(f'Se produce error {e} en la fila {n}')\n",
    "                if row['tesName'] not in faltandatos:\n",
    "                    faltandatos.append(row['tesName'])\n"
   ]
  },
  {
   "cell_type": "code",
   "execution_count": 6,
   "metadata": {},
   "outputs": [
    {
     "data": {
      "text/plain": [
       "['3Z10_74_41']"
      ]
     },
     "execution_count": 6,
     "metadata": {},
     "output_type": "execute_result"
    }
   ],
   "source": [
    "faltandatos"
   ]
  },
  {
   "cell_type": "code",
   "execution_count": 7,
   "metadata": {},
   "outputs": [],
   "source": [
    "faltan = []\n",
    "for i in dict_data.keys():\n",
    "    if len(df[df['tesName']==i]) == 0 and i not in faltan:\n",
    "        faltan.append(i)\n",
    "        \n"
   ]
  },
  {
   "cell_type": "code",
   "execution_count": 8,
   "metadata": {},
   "outputs": [
    {
     "data": {
      "text/plain": [
       "[]"
      ]
     },
     "execution_count": 8,
     "metadata": {},
     "output_type": "execute_result"
    }
   ],
   "source": [
    "faltan"
   ]
  },
  {
   "attachments": {},
   "cell_type": "markdown",
   "metadata": {},
   "source": [
    "## New Measurements"
   ]
  },
  {
   "cell_type": "code",
   "execution_count": 19,
   "metadata": {},
   "outputs": [
    {
     "data": {
      "text/plain": [
       "[[['3 uA', 'normal', 'redondeo', 'reversible'],\n",
       "  ['10 uA', 'normal', 'redondeo', 'reversible']]]"
      ]
     },
     "execution_count": 19,
     "metadata": {},
     "output_type": "execute_result"
    }
   ],
   "source": [
    "df[df['tesName']=='3Z2_53_13'].reset_index(drop = True).iloc[0]['caracteristicas']"
   ]
  },
  {
   "cell_type": "code",
   "execution_count": 26,
   "metadata": {},
   "outputs": [
    {
     "data": {
      "text/plain": [
       "['Tem1', 'R(3 uA up)']"
      ]
     },
     "execution_count": 26,
     "metadata": {},
     "output_type": "execute_result"
    }
   ],
   "source": [
    "tesName = '3Z2_53_13'\n",
    "list(dict_data[tesName]['dataframe'][0].columns)"
   ]
  },
  {
   "cell_type": "code",
   "execution_count": 12,
   "metadata": {},
   "outputs": [
    {
     "data": {
      "text/plain": [
       "{'tesName': ['3Z2_53_13',\n",
       "  '3Z2_53_13',\n",
       "  '3Z2_53_13',\n",
       "  '3Z2_53_13',\n",
       "  '3Z2_53_13',\n",
       "  '3Z2_53_13'],\n",
       " 'dataframe_fileName': ['TES 3Z2_53_13.xls',\n",
       "  'TES 3Z2_53_13.xls',\n",
       "  'TES 3Z2_53_13.xls',\n",
       "  'TES 3Z2_53_13.xls',\n",
       "  'TES 3Z2_53_13.xls',\n",
       "  'TES 3Z2_53_13.xls'],\n",
       " 'current': [3.0, 3.0, 10.0, 10.0, 30.0, 30.0],\n",
       " 'dataframe': [      Tem1  R(3 uA up)\n",
       "  0   0.1702     0.00189\n",
       "  1   0.1703     0.00112\n",
       "  2   0.1718     0.00062\n",
       "  3   0.1727    -0.00027\n",
       "  4   0.1736     0.00094\n",
       "  ..     ...         ...\n",
       "  71  0.2429     0.01570\n",
       "  72  0.2438     0.01687\n",
       "  73  0.2452     0.01698\n",
       "  74  0.2467     0.01504\n",
       "  75  0.2477     0.01622\n",
       "  \n",
       "  [76 rows x 2 columns],\n",
       "         Tem2  R(3 uA down)\n",
       "  0    0.2518       0.01596\n",
       "  1    0.2514       0.01737\n",
       "  2    0.2510       0.01638\n",
       "  3    0.2508       0.01640\n",
       "  4    0.2510       0.01604\n",
       "  ..      ...           ...\n",
       "  173  0.1781       0.00124\n",
       "  174  0.1776       0.00141\n",
       "  175  0.1770       0.00105\n",
       "  176  0.1765       0.00075\n",
       "  177  0.1761       0.00200\n",
       "  \n",
       "  [178 rows x 2 columns],\n",
       "         Tem3  R(10 uA up)\n",
       "  0    0.1700          NaN\n",
       "  1    0.1629     -0.00048\n",
       "  2    0.1618     -0.00042\n",
       "  3    0.1605     -0.00028\n",
       "  4    0.1599     -0.00043\n",
       "  ..      ...          ...\n",
       "  127  0.2231      0.01518\n",
       "  128  0.2238      0.01543\n",
       "  129  0.2249      0.01511\n",
       "  130  0.2256      0.01496\n",
       "  131  0.2255      0.01516\n",
       "  \n",
       "  [132 rows x 2 columns],\n",
       "         Tem4  R (10 uA down)\n",
       "  0    0.2219         0.01516\n",
       "  1    0.2169         0.01462\n",
       "  2    0.2143         0.01499\n",
       "  3    0.2129         0.01498\n",
       "  4    0.2118         0.01485\n",
       "  ..      ...             ...\n",
       "  114  0.1538        -0.00081\n",
       "  115  0.1531        -0.00041\n",
       "  116  0.1528        -0.00070\n",
       "  117  0.1518        -0.00019\n",
       "  118  0.1508         0.00013\n",
       "  \n",
       "  [119 rows x 2 columns],\n",
       "        Tem5  R(30 uA up)\n",
       "  0   0.1498      0.01470\n",
       "  1   0.1500      0.01458\n",
       "  2   0.1521      0.01467\n",
       "  3   0.1523      0.01463\n",
       "  4   0.1535      0.01471\n",
       "  ..     ...          ...\n",
       "  64  0.2137      0.01549\n",
       "  65  0.2147      0.01531\n",
       "  66  0.2158      0.01547\n",
       "  67  0.2169      0.01542\n",
       "  68  0.2176      0.01546\n",
       "  \n",
       "  [69 rows x 2 columns],\n",
       "         Tem6  R(30 uA down)\n",
       "  0    0.2209        0.01540\n",
       "  1    0.2209        0.01535\n",
       "  2    0.2208        0.01555\n",
       "  3    0.2209        0.01553\n",
       "  4    0.2198        0.01524\n",
       "  ..      ...            ...\n",
       "  155  0.1241        0.01435\n",
       "  156  0.1230        0.01436\n",
       "  157  0.1228        0.01436\n",
       "  158  0.1226        0.01443\n",
       "  159  0.1222        0.01455\n",
       "  \n",
       "  [160 rows x 2 columns]]}"
      ]
     },
     "execution_count": 12,
     "metadata": {},
     "output_type": "execute_result"
    }
   ],
   "source": [
    "datos_ya_introducidos = []\n",
    "datos_no_introducidos = []\n",
    "tesName = '3Z2_53_13'\n",
    "var = dict_data[tesName]\n",
    "series_foo = df[df['tesName']==tesName].reset_index(drop = True).iloc[0]\n",
    "for nombre, archivo, corriente, df_valores in zip(var['tesName'], var['dataframe_fileName'], var['current'], var['dataframe']):\n",
    "    foo = TCmeas(\n",
    "        fromFile = archivo,\n",
    "        cryostat = series_foo['cryo'],\n",
    "        holder = series_foo['holder'],\n",
    "        primaryType = \n",
    "        \n",
    "    )"
   ]
  },
  {
   "attachments": {},
   "cell_type": "markdown",
   "metadata": {},
   "source": [
    "# Pushing data"
   ]
  },
  {
   "cell_type": "code",
   "execution_count": 6,
   "metadata": {},
   "outputs": [],
   "source": [
    "objeto = DatabaseTes(True)\n",
    "objeto.connect()\n",
    "objeto.collection('tes')\n",
    "db = objeto.collec"
   ]
  },
  {
   "attachments": {},
   "cell_type": "markdown",
   "metadata": {},
   "source": [
    "## Insert new documents"
   ]
  },
  {
   "cell_type": "code",
   "execution_count": 7,
   "metadata": {},
   "outputs": [
    {
     "data": {
      "text/plain": [
       "<pymongo.results.InsertManyResult at 0x267ec57d5a0>"
      ]
     },
     "execution_count": 7,
     "metadata": {},
     "output_type": "execute_result"
    }
   ],
   "source": [
    "dbt_accion = DataActions(db)\n",
    "db.delete_all_and_insert_many(new_tes)"
   ]
  }
 ],
 "metadata": {
  "kernelspec": {
   "display_name": "tes",
   "language": "python",
   "name": "python3"
  },
  "language_info": {
   "codemirror_mode": {
    "name": "ipython",
    "version": 3
   },
   "file_extension": ".py",
   "mimetype": "text/x-python",
   "name": "python",
   "nbconvert_exporter": "python",
   "pygments_lexer": "ipython3",
   "version": "3.10.2"
  },
  "orig_nbformat": 4,
  "vscode": {
   "interpreter": {
    "hash": "bd9a4038ff18af5ac5a09ca4cb7daed4962b0cda20163f55b9030d9141f3436a"
   }
  }
 },
 "nbformat": 4,
 "nbformat_minor": 2
}
