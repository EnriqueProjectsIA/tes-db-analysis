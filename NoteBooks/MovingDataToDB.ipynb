{
 "cells": [
  {
   "attachments": {},
   "cell_type": "markdown",
   "metadata": {},
   "source": [
    "# Import dependencies"
   ]
  },
  {
   "cell_type": "code",
   "execution_count": 14,
   "metadata": {},
   "outputs": [],
   "source": [
    "import os\n",
    "import sys\n",
    "import pandas as pd\n",
    "import re\n",
    "import pickle\n",
    "import ast\n",
    "\n",
    "# Obtener la ruta del directorio padre\n",
    "parent_path = os.path.abspath(os.path.join(os.getcwd(), \"..\"))\n",
    "# Añadir la ruta del directorio padre al path de Python\n",
    "sys.path.append(parent_path)\n",
    "from connect import *\n",
    "from dataStructure import *"
   ]
  },
  {
   "attachments": {},
   "cell_type": "markdown",
   "metadata": {},
   "source": [
    "# Read data"
   ]
  },
  {
   "cell_type": "code",
   "execution_count": 2,
   "metadata": {},
   "outputs": [
    {
     "data": {
      "text/plain": [
       "'c:\\\\trabajo\\\\tes-obleas'"
      ]
     },
     "execution_count": 2,
     "metadata": {},
     "output_type": "execute_result"
    }
   ],
   "source": [
    "parent_path"
   ]
  },
  {
   "attachments": {},
   "cell_type": "markdown",
   "metadata": {},
   "source": [
    "## Read source excel"
   ]
  },
  {
   "cell_type": "code",
   "execution_count": 8,
   "metadata": {},
   "outputs": [],
   "source": [
    "PATH_EXCEL = os.path.join(parent_path,'rawData','TES3Z.xlsx')\n",
    "df_excel = pd.read_excel(PATH_EXCEL,index_col=0)"
   ]
  },
  {
   "cell_type": "code",
   "execution_count": 43,
   "metadata": {},
   "outputs": [],
   "source": [
    "def extrae_parametros(cadena:str)->List:\n",
    "    \n",
    "    patron1 = r'\\[\\[(.*?)\\]\\]'\n",
    "    patron2 = r'\\[(.*?)\\]'\n",
    "    patron3 = r'\\((.*?)\\)'\n",
    "\n",
    "    elementos = re.findall(patron1, cadena)\n",
    "    elementos = '['+elementos[0]+']'\n",
    "    elementos = re.findall(patron2, elementos)\n",
    "    elementos = [re.findall(patron3, i) for i in elementos]\n",
    "    elementos = [[list(map(str.strip,elemento.split(','))) for elemento in grupo] for grupo in elementos]\n",
    "    return elementos\n",
    "\n"
   ]
  },
  {
   "cell_type": "code",
   "execution_count": 2,
   "metadata": {},
   "outputs": [],
   "source": [
    "data_path = os.path.join(parent_path,'OutputData')\n",
    "files = os.listdir(data_path)\n",
    "file = [f for f in files if 'df_agg' in f][0]\n",
    "df_file = os.path.join(data_path,file)\n",
    "\n",
    "with open(df_file, 'rb') as handle:\n",
    "    df = pickle.load(handle)"
   ]
  },
  {
   "attachments": {},
   "cell_type": "markdown",
   "metadata": {},
   "source": [
    "# Preparing Data"
   ]
  },
  {
   "attachments": {},
   "cell_type": "markdown",
   "metadata": {},
   "source": [
    "## New document"
   ]
  },
  {
   "cell_type": "code",
   "execution_count": 3,
   "metadata": {},
   "outputs": [],
   "source": [
    "new_tes = []\n",
    "for n, row in df.iterrows():\n",
    "    var = Tes(\n",
    "        tesName = row['tesName'],\n",
    "        tags = list(row['tags']),\n",
    "        fabrication = Fabrication(\n",
    "            wafer = Wafer(\n",
    "                waferName = row['tesName'].split('_')[0],\n",
    "                material = 'Si',\n",
    "                orientation = '100',\n",
    "                divisions = ['Q1','Q2','Q3','Q4'],\n",
    "                chipsOnWafer= [f'Chip_{i}' for i in range(23,77)],\n",
    "                image = os.path.join(parent_path,'Images','wafer_3Z.jpg')\n",
    "                ),\n",
    "            absorber = None if row['absorber'] == 'no' else [Layer(\n",
    "                    material = 'Au',\n",
    "                    process = 'electroplating',\n",
    "                    orintation = 'amorphous',\n",
    "                    thickness = PairValueUnit(quantity = 2, units = 'um'),\n",
    "                    width = PairValueUnit(quantity = 240, units = 'um'),\n",
    "                    length = PairValueUnit(quantity = 240, units = 'um')\n",
    "                ),Layer(\n",
    "                    material = 'Bi',\n",
    "                    process = 'electroplating',\n",
    "                    orintation = 'amorphous',\n",
    "                    thickness = PairValueUnit(quantity = 3.5, units = 'um'),\n",
    "                    width = PairValueUnit(quantity = 240, units = 'um'),\n",
    "                    length = PairValueUnit(quantity = 240, units = 'um')\n",
    "                )],\n",
    "            membrane = None if row['membrane'] == 'no' else Layer(\n",
    "                    material = 'Si3N4',\n",
    "                    process = 'Sputtering',\n",
    "                    orintation = 'amorphous',\n",
    "                    thickness = PairValueUnit(quantity = 0.5, units = 'um'),\n",
    "                    width = PairValueUnit(quantity = 250, units = 'um'),\n",
    "                    length = PairValueUnit(quantity = 250, units = 'um')\n",
    "                ),\n",
    "            pads = [Pads(\n",
    "                material = 'Mo',\n",
    "                orientation = 'amorphous',\n",
    "                process = 'sputtering-dc',\n",
    "                thickness = PairValueUnit(quantity = 15, units = 'um') \n",
    "            ),Pads(\n",
    "                material = 'Nb',\n",
    "                orientation = 'amorphous',\n",
    "                process = 'sputtering-dc',\n",
    "                thickness = PairValueUnit(quantity = 0.15, units = 'um') \n",
    "            )],\n",
    "            stack = [Layer(\n",
    "                    material = 'Mo',\n",
    "                    process = 'sputtering-dc',\n",
    "                    orintation = 'amorphous',\n",
    "                    thickness = PairValueUnit(quantity = row['stackMoT'], units = 'nm'),\n",
    "                    width = PairValueUnit(quantity = row['stackw'], units = 'um'),\n",
    "                    length = PairValueUnit(quantity = row['stackl'], units = 'um')\n",
    "                ),Layer(\n",
    "                    material = 'Au',\n",
    "                    process = 'sputtering-dc',\n",
    "                    orintation = 'amorphous',\n",
    "                    thickness = PairValueUnit(quantity = row['stackAu1T'], units = 'nm'),\n",
    "                    width = PairValueUnit(quantity = row['stackw'], units = 'um'),\n",
    "                    length = PairValueUnit(quantity = row['stackl'], units = 'um')\n",
    "                ),Layer(\n",
    "                    material = 'Au',\n",
    "                    process = 'e-beam_evaporation',\n",
    "                    orintation = 'amorphous',\n",
    "                    thickness = PairValueUnit(quantity = row['stackAu2T'], units = 'nm'),\n",
    "                    width = PairValueUnit(quantity = row['stackw'], units = 'um'),\n",
    "                    length = PairValueUnit(quantity = row['stackl'], units = 'um')\n",
    "                )]\n",
    "        )\n",
    "    ).dict()\n",
    "    new_tes.append(var)"
   ]
  },
  {
   "cell_type": "code",
   "execution_count": 4,
   "metadata": {},
   "outputs": [
    {
     "data": {
      "text/html": [
       "<div>\n",
       "<style scoped>\n",
       "    .dataframe tbody tr th:only-of-type {\n",
       "        vertical-align: middle;\n",
       "    }\n",
       "\n",
       "    .dataframe tbody tr th {\n",
       "        vertical-align: top;\n",
       "    }\n",
       "\n",
       "    .dataframe thead th {\n",
       "        text-align: right;\n",
       "    }\n",
       "</style>\n",
       "<table border=\"1\" class=\"dataframe\">\n",
       "  <thead>\n",
       "    <tr style=\"text-align: right;\">\n",
       "      <th></th>\n",
       "      <th>tesName</th>\n",
       "      <th>tags</th>\n",
       "      <th>stackw</th>\n",
       "      <th>stackl</th>\n",
       "      <th>stackMoT</th>\n",
       "      <th>stackAu1T</th>\n",
       "      <th>stackAu2T</th>\n",
       "      <th>absorber</th>\n",
       "      <th>membrane</th>\n",
       "      <th>RN</th>\n",
       "      <th>TC0</th>\n",
       "    </tr>\n",
       "  </thead>\n",
       "  <tbody>\n",
       "    <tr>\n",
       "      <th>0</th>\n",
       "      <td>3Z10_33_34</td>\n",
       "      <td>(EB, Funcional)</td>\n",
       "      <td>30</td>\n",
       "      <td>16</td>\n",
       "      <td>40</td>\n",
       "      <td>15</td>\n",
       "      <td>200</td>\n",
       "      <td>no</td>\n",
       "      <td>no</td>\n",
       "      <td>16.0</td>\n",
       "      <td>[92]</td>\n",
       "    </tr>\n",
       "    <tr>\n",
       "      <th>1</th>\n",
       "      <td>3Z10_53_13</td>\n",
       "      <td>(EB, Funcional)</td>\n",
       "      <td>16</td>\n",
       "      <td>10</td>\n",
       "      <td>40</td>\n",
       "      <td>15</td>\n",
       "      <td>200</td>\n",
       "      <td>no</td>\n",
       "      <td>no</td>\n",
       "      <td>19.0</td>\n",
       "      <td>[100]</td>\n",
       "    </tr>\n",
       "    <tr>\n",
       "      <th>2</th>\n",
       "      <td>3Z10_53_33</td>\n",
       "      <td>(EB, Funcional)</td>\n",
       "      <td>10</td>\n",
       "      <td>16</td>\n",
       "      <td>40</td>\n",
       "      <td>15</td>\n",
       "      <td>200</td>\n",
       "      <td>no</td>\n",
       "      <td>no</td>\n",
       "      <td>48.0</td>\n",
       "      <td>[85]</td>\n",
       "    </tr>\n",
       "    <tr>\n",
       "      <th>3</th>\n",
       "      <td>3Z10_64_14</td>\n",
       "      <td>(EB, Funcional)</td>\n",
       "      <td>16</td>\n",
       "      <td>8</td>\n",
       "      <td>40</td>\n",
       "      <td>15</td>\n",
       "      <td>200</td>\n",
       "      <td>no</td>\n",
       "      <td>no</td>\n",
       "      <td>15.0</td>\n",
       "      <td>[170]</td>\n",
       "    </tr>\n",
       "    <tr>\n",
       "      <th>4</th>\n",
       "      <td>3Z10_64_41</td>\n",
       "      <td>(EB, Funcional)</td>\n",
       "      <td>16</td>\n",
       "      <td>24</td>\n",
       "      <td>40</td>\n",
       "      <td>15</td>\n",
       "      <td>200</td>\n",
       "      <td>no</td>\n",
       "      <td>no</td>\n",
       "      <td>43.0</td>\n",
       "      <td>[90]</td>\n",
       "    </tr>\n",
       "  </tbody>\n",
       "</table>\n",
       "</div>"
      ],
      "text/plain": [
       "      tesName             tags  stackw  stackl  stackMoT  stackAu1T  \\\n",
       "0  3Z10_33_34  (EB, Funcional)      30      16        40         15   \n",
       "1  3Z10_53_13  (EB, Funcional)      16      10        40         15   \n",
       "2  3Z10_53_33  (EB, Funcional)      10      16        40         15   \n",
       "3  3Z10_64_14  (EB, Funcional)      16       8        40         15   \n",
       "4  3Z10_64_41  (EB, Funcional)      16      24        40         15   \n",
       "\n",
       "   stackAu2T absorber membrane    RN    TC0  \n",
       "0        200       no       no  16.0   [92]  \n",
       "1        200       no       no  19.0  [100]  \n",
       "2        200       no       no  48.0   [85]  \n",
       "3        200       no       no  15.0  [170]  \n",
       "4        200       no       no  43.0   [90]  "
      ]
     },
     "execution_count": 4,
     "metadata": {},
     "output_type": "execute_result"
    }
   ],
   "source": [
    "df.head()"
   ]
  },
  {
   "attachments": {},
   "cell_type": "markdown",
   "metadata": {},
   "source": [
    "# Pushing data"
   ]
  },
  {
   "cell_type": "code",
   "execution_count": 6,
   "metadata": {},
   "outputs": [],
   "source": [
    "objeto = DatabaseTes(True)\n",
    "objeto.connect()\n",
    "objeto.collection('tes')\n",
    "db = objeto.collec"
   ]
  },
  {
   "attachments": {},
   "cell_type": "markdown",
   "metadata": {},
   "source": [
    "## Insert new documents"
   ]
  },
  {
   "cell_type": "code",
   "execution_count": 7,
   "metadata": {},
   "outputs": [
    {
     "data": {
      "text/plain": [
       "<pymongo.results.InsertManyResult at 0x267ec57d5a0>"
      ]
     },
     "execution_count": 7,
     "metadata": {},
     "output_type": "execute_result"
    }
   ],
   "source": [
    "db.insert_many(new_tes)"
   ]
  }
 ],
 "metadata": {
  "kernelspec": {
   "display_name": "tes",
   "language": "python",
   "name": "python3"
  },
  "language_info": {
   "codemirror_mode": {
    "name": "ipython",
    "version": 3
   },
   "file_extension": ".py",
   "mimetype": "text/x-python",
   "name": "python",
   "nbconvert_exporter": "python",
   "pygments_lexer": "ipython3",
   "version": "3.10.2"
  },
  "orig_nbformat": 4,
  "vscode": {
   "interpreter": {
    "hash": "bd9a4038ff18af5ac5a09ca4cb7daed4962b0cda20163f55b9030d9141f3436a"
   }
  }
 },
 "nbformat": 4,
 "nbformat_minor": 2
}
