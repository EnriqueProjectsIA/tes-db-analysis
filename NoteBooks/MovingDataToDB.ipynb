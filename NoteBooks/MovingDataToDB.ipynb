{
 "cells": [
  {
   "attachments": {},
   "cell_type": "markdown",
   "metadata": {},
   "source": [
    "# Import dependencies"
   ]
  },
  {
   "cell_type": "code",
   "execution_count": 14,
   "metadata": {},
   "outputs": [],
   "source": [
    "import os\n",
    "import sys\n",
    "import pandas as pd\n",
    "import re\n",
    "import pickle\n",
    "import ast\n",
    "\n",
    "# Obtener la ruta del directorio padre\n",
    "parent_path = os.path.abspath(os.path.join(os.getcwd(), \"..\"))\n",
    "# Añadir la ruta del directorio padre al path de Python\n",
    "sys.path.append(parent_path)\n",
    "from connect import *\n",
    "from dataStructure import *"
   ]
  },
  {
   "attachments": {},
   "cell_type": "markdown",
   "metadata": {},
   "source": [
    "# Read data"
   ]
  },
  {
   "cell_type": "code",
   "execution_count": 2,
   "metadata": {},
   "outputs": [
    {
     "data": {
      "text/plain": [
       "'c:\\\\trabajo\\\\tes-obleas'"
      ]
     },
     "execution_count": 2,
     "metadata": {},
     "output_type": "execute_result"
    }
   ],
   "source": [
    "parent_path"
   ]
  },
  {
   "attachments": {},
   "cell_type": "markdown",
   "metadata": {},
   "source": [
    "## Read source excel"
   ]
  },
  {
   "cell_type": "code",
   "execution_count": 8,
   "metadata": {},
   "outputs": [],
   "source": [
    "PATH_EXCEL = os.path.join(parent_path,'rawData','TES3Z.xlsx')\n",
    "df_excel = pd.read_excel(PATH_EXCEL,index_col=0)"
   ]
  },
  {
   "cell_type": "code",
   "execution_count": 77,
   "metadata": {},
   "outputs": [],
   "source": [
    "data_path = os.path.join(parent_path,'OutputData')\n",
    "files = os.listdir(data_path)\n",
    "file = [f for f in files if 'df_raw' in f][0]\n",
    "file_list = [f for f in files if 'list' in f][0]\n",
    "file_dict = [f for f in files if 'dict' in f][0]\n",
    "df_file = os.path.join(data_path,file)\n",
    "list_path = os.path.join(data_path,file_list)\n",
    "dict_path = os.path.join(data_path,file_dict)\n",
    "\n",
    "with open(df_file, 'rb') as handle:\n",
    "    df = pickle.load(handle)\n",
    "\n",
    "with open(list_path, 'rb') as handle:\n",
    "    list_data = pickle.load(handle)\n",
    "\n",
    "with open(dict_path, 'rb') as handle:\n",
    "    dict_data = pickle.load(handle)\n"
   ]
  },
  {
   "attachments": {},
   "cell_type": "markdown",
   "metadata": {},
   "source": [
    "# Preparing Data"
   ]
  },
  {
   "attachments": {},
   "cell_type": "markdown",
   "metadata": {},
   "source": [
    "## New document"
   ]
  },
  {
   "cell_type": "code",
   "execution_count": 3,
   "metadata": {},
   "outputs": [],
   "source": [
    "new_tes = []\n",
    "for n, row in df.iterrows():\n",
    "    var = Tes(\n",
    "        tesName = row['tesName'],\n",
    "        tags = list(row['tags']),\n",
    "        fabrication = Fabrication(\n",
    "            wafer = Wafer(\n",
    "                waferName = row['tesName'].split('_')[0],\n",
    "                material = 'Si',\n",
    "                orientation = '100',\n",
    "                divisions = ['Q1','Q2','Q3','Q4'],\n",
    "                chipsOnWafer= [f'Chip_{i}' for i in range(23,77)],\n",
    "                image = os.path.join(parent_path,'Images','wafer_3Z.jpg')\n",
    "                ),\n",
    "            absorber = None if row['absorber'] == 'no' else [Layer(\n",
    "                    material = 'Au',\n",
    "                    process = 'electroplating',\n",
    "                    orintation = 'amorphous',\n",
    "                    thickness = PairValueUnit(quantity = 2, units = 'um'),\n",
    "                    width = PairValueUnit(quantity = 240, units = 'um'),\n",
    "                    length = PairValueUnit(quantity = 240, units = 'um')\n",
    "                ),Layer(\n",
    "                    material = 'Bi',\n",
    "                    process = 'electroplating',\n",
    "                    orintation = 'amorphous',\n",
    "                    thickness = PairValueUnit(quantity = 3.5, units = 'um'),\n",
    "                    width = PairValueUnit(quantity = 240, units = 'um'),\n",
    "                    length = PairValueUnit(quantity = 240, units = 'um')\n",
    "                )],\n",
    "            membrane = None if row['membrane'] == 'no' else Layer(\n",
    "                    material = 'Si3N4',\n",
    "                    process = 'Sputtering',\n",
    "                    orintation = 'amorphous',\n",
    "                    thickness = PairValueUnit(quantity = 0.5, units = 'um'),\n",
    "                    width = PairValueUnit(quantity = 250, units = 'um'),\n",
    "                    length = PairValueUnit(quantity = 250, units = 'um')\n",
    "                ),\n",
    "            pads = [Pads(\n",
    "                material = 'Mo',\n",
    "                orientation = 'amorphous',\n",
    "                process = 'sputtering-dc',\n",
    "                thickness = PairValueUnit(quantity = 15, units = 'um') \n",
    "            ),Pads(\n",
    "                material = 'Nb',\n",
    "                orientation = 'amorphous',\n",
    "                process = 'sputtering-dc',\n",
    "                thickness = PairValueUnit(quantity = 0.15, units = 'um') \n",
    "            )],\n",
    "            stack = [Layer(\n",
    "                    material = 'Mo',\n",
    "                    process = 'sputtering-dc',\n",
    "                    orintation = 'amorphous',\n",
    "                    thickness = PairValueUnit(quantity = row['stackMoT'], units = 'nm'),\n",
    "                    width = PairValueUnit(quantity = row['stackw'], units = 'um'),\n",
    "                    length = PairValueUnit(quantity = row['stackl'], units = 'um')\n",
    "                ),Layer(\n",
    "                    material = 'Au',\n",
    "                    process = 'sputtering-dc',\n",
    "                    orintation = 'amorphous',\n",
    "                    thickness = PairValueUnit(quantity = row['stackAu1T'], units = 'nm'),\n",
    "                    width = PairValueUnit(quantity = row['stackw'], units = 'um'),\n",
    "                    length = PairValueUnit(quantity = row['stackl'], units = 'um')\n",
    "                ),Layer(\n",
    "                    material = 'Au',\n",
    "                    process = 'e-beam_evaporation',\n",
    "                    orintation = 'amorphous',\n",
    "                    thickness = PairValueUnit(quantity = row['stackAu2T'], units = 'nm'),\n",
    "                    width = PairValueUnit(quantity = row['stackw'], units = 'um'),\n",
    "                    length = PairValueUnit(quantity = row['stackl'], units = 'um')\n",
    "                )]\n",
    "        )\n",
    "    ).dict()\n",
    "    new_tes.append(var)"
   ]
  },
  {
   "cell_type": "code",
   "execution_count": 50,
   "metadata": {},
   "outputs": [
    {
     "data": {
      "text/plain": [
       "{'tesName': ['3Z10_33_34', '3Z10_33_34'],\n",
       " 'dataframe_fileName': ['TES 3Z10_33_34.xls', 'TES 3Z10_33_34.xls'],\n",
       " 'current': [3.0, 10.0],\n",
       " 'dataframe': [         Tem1  R (3uA)\n",
       "  0    0.068005  0.00085\n",
       "  1    0.068081 -0.00016\n",
       "  2    0.068081  0.00095\n",
       "  3    0.068002  0.00063\n",
       "  4    0.067995  0.00050\n",
       "  ..        ...      ...\n",
       "  444  0.109380  0.01154\n",
       "  445  0.109380  0.01237\n",
       "  446  0.109500  0.01230\n",
       "  447  0.109680  0.01150\n",
       "  448  0.109640  0.01195\n",
       "  \n",
       "  [449 rows x 2 columns],\n",
       "           Tem2  R (10uA)\n",
       "  0    0.110620   0.01208\n",
       "  1    0.110620   0.01221\n",
       "  2    0.110640   0.01242\n",
       "  3    0.110740   0.01215\n",
       "  4    0.110700   0.01238\n",
       "  ..        ...       ...\n",
       "  511  0.079290   0.00967\n",
       "  512  0.079290   0.00983\n",
       "  513  0.079599   0.00963\n",
       "  514  0.080091   0.00979\n",
       "  515  0.080091   0.00983\n",
       "  \n",
       "  [516 rows x 2 columns]]}"
      ]
     },
     "execution_count": 50,
     "metadata": {},
     "output_type": "execute_result"
    }
   ],
   "source": [
    "list_data[0]"
   ]
  },
  {
   "cell_type": "code",
   "execution_count": 53,
   "metadata": {},
   "outputs": [
    {
     "data": {
      "text/plain": [
       "'Kelvinox'"
      ]
     },
     "execution_count": 53,
     "metadata": {},
     "output_type": "execute_result"
    }
   ],
   "source": [
    "df[df['tesName']=='3Z2_52_12']['cryo'].values[0]"
   ]
  },
  {
   "cell_type": "code",
   "execution_count": 67,
   "metadata": {},
   "outputs": [
    {
     "data": {
      "text/plain": [
       "Index(['tesName', 'tags', 'stackw', 'stackl', 'stackMoT', 'stackAu1T',\n",
       "       'stackAu2T', 'absorber', 'membrane', 'TC0', 'RN', 'cryo', 'holder',\n",
       "       'caracteristicas'],\n",
       "      dtype='object')"
      ]
     },
     "execution_count": 67,
     "metadata": {},
     "output_type": "execute_result"
    }
   ],
   "source": [
    "df.columns"
   ]
  },
  {
   "cell_type": "code",
   "execution_count": 78,
   "metadata": {},
   "outputs": [],
   "source": [
    "faltandatos = []\n",
    "for n, row in df.iterrows():\n",
    "    for j, caracteristicas in enumerate(row['caracteristicas']):\n",
    "        for loop in caracteristicas:\n",
    "            try:\n",
    "                a = dict_data[row['tesName']]\n",
    "            except Exception as e:\n",
    "                #print(f'Se produce error {e} en la fila {n}')\n",
    "                if row['tesName'] not in faltandatos:\n",
    "                    faltandatos.append(row['tesName'])\n"
   ]
  },
  {
   "cell_type": "code",
   "execution_count": 79,
   "metadata": {},
   "outputs": [
    {
     "data": {
      "text/plain": [
       "['3Z2_52_12',\n",
       " '3Z9_54_24',\n",
       " '3Z10_74_41',\n",
       " '3Z10_64_14',\n",
       " '3Z2_52_14',\n",
       " '3Z2_53_22',\n",
       " '3Z2_64_33',\n",
       " '3Z2_44_24']"
      ]
     },
     "execution_count": 79,
     "metadata": {},
     "output_type": "execute_result"
    }
   ],
   "source": [
    "faltandatos"
   ]
  },
  {
   "cell_type": "code",
   "execution_count": 80,
   "metadata": {},
   "outputs": [],
   "source": [
    "faltan = []\n",
    "for i in dict_data.keys():\n",
    "    if len(df[df['tesName']==i]) == 0 and i not in faltan:\n",
    "        faltan.append(i)\n",
    "        \n"
   ]
  },
  {
   "cell_type": "code",
   "execution_count": 81,
   "metadata": {},
   "outputs": [
    {
     "data": {
      "text/plain": [
       "['3Z9_52_24']"
      ]
     },
     "execution_count": 81,
     "metadata": {},
     "output_type": "execute_result"
    }
   ],
   "source": [
    "faltan"
   ]
  },
  {
   "cell_type": "code",
   "execution_count": 49,
   "metadata": {},
   "outputs": [
    {
     "data": {
      "text/plain": [
       "0        3Z2_74_21\n",
       "1        3Z2_53_13\n",
       "2        3Z2_52_12\n",
       "3        3Z4_64_32\n",
       "4        3Z4_53_13\n",
       "5        3Z4_73_33\n",
       "6        3Z4_42_21\n",
       "7        3Z6_73_33\n",
       "8     3Z6_54_Mo/Au\n",
       "9        3Z6_42_21\n",
       "10       3Z6_54_34\n",
       "11       3Z6_45_11\n",
       "12       3Z8_44_14\n",
       "13       3Z8_26_22\n",
       "14       3Z8_53_13\n",
       "15       3Z8_64_41\n",
       "16       3Z8_73_12\n",
       "17       3Z8_74_21\n",
       "18       3Z8_55_44\n",
       "19       3Z8_64_34\n",
       "20       3Z9_45_21\n",
       "21       3Z9_54_12\n",
       "22       3Z9_73_32\n",
       "23       3Z9_74_21\n",
       "24       3Z9_54_24\n",
       "25      3Z10_74_33\n",
       "26      3Z10_64_41\n",
       "27      3Z10_53_33\n",
       "28      3Z10_33_34\n",
       "29      3Z10_73_21\n",
       "30      3Z10_74_41\n",
       "31      3Z10_64_14\n",
       "32      3Z10_53_13\n",
       "33       3Z8_73_14\n",
       "34       3Z8_64_32\n",
       "35       3Z8_53_23\n",
       "36       3Z2_54_31\n",
       "37       3Z2_52_14\n",
       "38       3Z2_53_33\n",
       "39       3Z2_63_13\n",
       "40       3Z2_63_33\n",
       "41       3Z2_64_34\n",
       "42       3Z2_54_34\n",
       "43       3Z2_74_41\n",
       "44       3Z2_64_32\n",
       "45       3Z2_53_13\n",
       "46       3Z2_54_24\n",
       "47       3Z2_53_22\n",
       "48       3Z2_63_22\n",
       "49       3Z2_64_33\n",
       "50       3Z2_44_24\n",
       "Name: tesName, dtype: object"
      ]
     },
     "execution_count": 49,
     "metadata": {},
     "output_type": "execute_result"
    }
   ],
   "source": [
    "for n, row in df['caracteristicas'].iterrrows():\n",
    "    TCmeas(\n",
    "        fromFile = list_data[0]['dataframe_fileName'],\n",
    "        cryostat = df[df['tesName']==list_data[0]['tesName'][0]]['cryo'].values[0],\n",
    "        holder = df[df['tesName']==list_data[0]['tesName'][0]]['holder'].values[0]\n",
    "    )"
   ]
  },
  {
   "attachments": {},
   "cell_type": "markdown",
   "metadata": {},
   "source": [
    "# Pushing data"
   ]
  },
  {
   "cell_type": "code",
   "execution_count": 6,
   "metadata": {},
   "outputs": [],
   "source": [
    "objeto = DatabaseTes(True)\n",
    "objeto.connect()\n",
    "objeto.collection('tes')\n",
    "db = objeto.collec"
   ]
  },
  {
   "attachments": {},
   "cell_type": "markdown",
   "metadata": {},
   "source": [
    "## Insert new documents"
   ]
  },
  {
   "cell_type": "code",
   "execution_count": 7,
   "metadata": {},
   "outputs": [
    {
     "data": {
      "text/plain": [
       "<pymongo.results.InsertManyResult at 0x267ec57d5a0>"
      ]
     },
     "execution_count": 7,
     "metadata": {},
     "output_type": "execute_result"
    }
   ],
   "source": [
    "db.insert_many(new_tes)"
   ]
  }
 ],
 "metadata": {
  "kernelspec": {
   "display_name": "tes",
   "language": "python",
   "name": "python3"
  },
  "language_info": {
   "codemirror_mode": {
    "name": "ipython",
    "version": 3
   },
   "file_extension": ".py",
   "mimetype": "text/x-python",
   "name": "python",
   "nbconvert_exporter": "python",
   "pygments_lexer": "ipython3",
   "version": "3.10.2"
  },
  "orig_nbformat": 4,
  "vscode": {
   "interpreter": {
    "hash": "bd9a4038ff18af5ac5a09ca4cb7daed4962b0cda20163f55b9030d9141f3436a"
   }
  }
 },
 "nbformat": 4,
 "nbformat_minor": 2
}
