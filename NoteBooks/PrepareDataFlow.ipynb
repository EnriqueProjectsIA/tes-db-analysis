{
 "cells": [
  {
   "attachments": {},
   "cell_type": "markdown",
   "metadata": {},
   "source": [
    "# import dependencies"
   ]
  },
  {
   "cell_type": "code",
   "execution_count": 167,
   "metadata": {},
   "outputs": [],
   "source": [
    "import os\n",
    "import sys\n",
    "import pandas as pd\n",
    "import re\n",
    "import pickle\n",
    "\n",
    "# Obtener la ruta del directorio padre\n",
    "parent_path = os.path.abspath(os.path.join(os.getcwd(), \"..\"))\n",
    "# Añadir la ruta del directorio padre al path de Python\n",
    "sys.path.append(parent_path)\n",
    "from connect import *\n",
    "from dataStructure import *"
   ]
  },
  {
   "attachments": {},
   "cell_type": "markdown",
   "metadata": {},
   "source": [
    "# Paths to raw data"
   ]
  },
  {
   "cell_type": "code",
   "execution_count": 143,
   "metadata": {},
   "outputs": [],
   "source": [
    "raw_data_folder_path = os.path.join(parent_path,'rawData')"
   ]
  },
  {
   "attachments": {},
   "cell_type": "markdown",
   "metadata": {},
   "source": [
    "# Loading and cleaning data"
   ]
  },
  {
   "cell_type": "code",
   "execution_count": 144,
   "metadata": {},
   "outputs": [],
   "source": [
    "raw_data_name_files = os.listdir(raw_data_folder_path)"
   ]
  },
  {
   "cell_type": "code",
   "execution_count": 145,
   "metadata": {},
   "outputs": [],
   "source": [
    "file_to_read = 'TES3Z'\n",
    "file = [name_file for name_file in raw_data_name_files if file_to_read in name_file][0]\n",
    "path_file = os.path.join(raw_data_folder_path,file)\n",
    "df = pd.read_excel(path_file, index_col=0)"
   ]
  },
  {
   "cell_type": "code",
   "execution_count": 146,
   "metadata": {},
   "outputs": [
    {
     "name": "stdout",
     "output_type": "stream",
     "text": [
      "An error occurred: invalid literal for int() with base 10: 'no' and the data 8 was not properly transformed\n"
     ]
    }
   ],
   "source": [
    "tes = {\n",
    "    'tesName': [],\n",
    "    'tags':[],\n",
    "    'stackw':[],\n",
    "    'stackl':[],\n",
    "    'stackMoT':[],\n",
    "    'stackAu1T':[],\n",
    "    'stackAu2T':[],\n",
    "    'absorber':[],\n",
    "    'membrane':[],\n",
    "    'TC0':[],\n",
    "    'RN':[]\n",
    "}\n",
    "\n",
    "def verifica_patron_NZN(cadena):\n",
    "    '''\n",
    "    patron a verificar número Z número\n",
    "    '''\n",
    "    patron = r\"\\d[Z]\\d+$\"\n",
    "    return bool(re.match(patron, cadena))\n",
    "\n",
    "def verifica_patron_2d(cadena):\n",
    "    '''\n",
    "    Verifica dos dígitos\n",
    "    '''\n",
    "    patron = r\"^\\d{2}$\"\n",
    "    return bool(re.match(patron, cadena))\n",
    "\n",
    "def verifica_patron_3numeros(cadena):\n",
    "    '''\n",
    "    Verifica que la cadena de texto contenga como máximo tres números\n",
    "    '''\n",
    "    patron = '^\\D*(\\d\\D*){1,3}$'\n",
    "    return bool(re.match(patron, cadena))\n",
    "\n",
    "\n",
    "\n",
    "def clean_names(name:str, i:int)->str:\n",
    "    '''\n",
    "    clean strings names\n",
    "    '''\n",
    "    name_list = name.split('_')\n",
    "\n",
    "    if len(name_list) != 3:\n",
    "        print(f'The name {name} needs further inspection, position {i}')\n",
    "        final_name = name\n",
    "        return final_name\n",
    "\n",
    "    if verifica_patron_NZN(name_list[0]) == True:\n",
    "        final_name =name_list[0]+'_'\n",
    "    else:\n",
    "        print(f'The name {name} needs further inspection, position {i}')\n",
    "        final_name = name\n",
    "        return final_name\n",
    "    \n",
    "    if verifica_patron_2d(name_list[1].strip()) == True:\n",
    "        final_name = final_name+name_list[1].strip()+'_'\n",
    "    else:\n",
    "        print(f'The name {name} needs further inspection, position {i}')\n",
    "        final_name = name\n",
    "        return final_name\n",
    "    \n",
    "    if verifica_patron_2d(name_list[2].strip()[:2]) == True or i == 8:\n",
    "        if verifica_patron_2d(name_list[2].strip()[:2]) == True:\n",
    "            final_name = final_name+name_list[2].strip()[:2]\n",
    "        else:\n",
    "            final_name = final_name+name_list[2].strip()\n",
    "    else:\n",
    "        print(f'The name {name} needs further inspection, position {i}')\n",
    "        final_name = name\n",
    "        return final_name\n",
    "    \n",
    "    return final_name\n",
    "\n",
    "\n",
    "def clean_width_length(raw:str, i:int)->List:\n",
    "\n",
    "    data = raw.lower().split('x')\n",
    "\n",
    "    try:\n",
    "        data = [int(i.strip()) for i in data]\n",
    "    except Exception as error:\n",
    "        data = [-1,-1]\n",
    "        message = f\"An error occurred: {error} and the data {i} was not properly transformed\"\n",
    "        print(message)\n",
    "    \n",
    "    return data\n",
    "\n",
    "def clean_Mo_Au_Au(raw:str, i:int)->List:\n",
    "    final_data = []\n",
    "    data = raw.lower().split('/')\n",
    "\n",
    "    if len(data)!=3:\n",
    "        final_data  = data\n",
    "        print(f'Verifica dato en posición {i}')\n",
    "        return final_data\n",
    "        \n",
    "    for d in data:\n",
    "        if verifica_patron_3numeros(d.strip()) == True:\n",
    "            final_data.append(int(d.strip()))\n",
    "        else:\n",
    "            print(f'Verifica dato en posición {i}')\n",
    "            return final_data\n",
    "    return final_data\n",
    "    \n",
    "tes['tesName'] = [clean_names(name, i) for i,name in enumerate(df.columns)]\n",
    "\n",
    "tes['tags'] = list(zip(*[[row[name] for name in df.columns] for n, row in df.iterrows() if n == 'Tags' or n == 'Tags_']))\n",
    "\n",
    "wl = list(zip(*[[clean_width_length(data,i) for i, data in enumerate(row)] for n, row in df.iterrows() if n == 'stack Area WxL (um)'][0]))\n",
    "\n",
    "tes['stackw'] = list(wl[0])\n",
    "\n",
    "tes['stackl'] = list(wl[1])\n",
    "\n",
    "mo1o2 = list(zip(*[[clean_Mo_Au_Au(data,i) for i, data in enumerate(row)] for n, row in df.iterrows() if n == 'stackThickMoAuAu (nm)'][0]))\n",
    "\n",
    "tes['stackMoT'] = list(mo1o2[0])\n",
    "\n",
    "tes['stackAu1T'] = list(mo1o2[1])\n",
    "\n",
    "tes['stackAu2T'] = list(mo1o2[2])\n",
    "\n",
    "tes['absorber'] = [[data.lower().strip() for data in row] for n, row in df.iterrows() if n == 'Absorbente'][0]\n",
    "\n",
    "tes['membrane'] = [[data.lower().strip() for data in row] for n, row in df.iterrows() if n == 'Membrana'][0]\n",
    "\n",
    "tes['TC0'] = [[int(data) for data in row] for n, row in df.iterrows() if n == 'Tc0 mK'][0]\n",
    "\n",
    "tes['RN'] = [[float(data) for data in row] for n, row in df.iterrows() if n == 'RN Ohms'][0]\n",
    "\n",
    "df_raw = pd.DataFrame.from_dict(tes)\n"
   ]
  },
  {
   "attachments": {},
   "cell_type": "markdown",
   "metadata": {},
   "source": [
    "## Further cleaning"
   ]
  },
  {
   "cell_type": "code",
   "execution_count": 150,
   "metadata": {},
   "outputs": [],
   "source": [
    "duplicated_names = df_raw['tesName'][df_raw['tesName'].duplicated()].to_list()\n",
    "for d_name in duplicated_names:\n",
    "    indice = []\n",
    "    state = []\n",
    "    for n,row in df_raw[df_raw['tesName']==d_name].iterrows():\n",
    "        state.append(row['tags'][1])\n",
    "        indice.append(n)\n",
    "    if all(x == state[0] for x in state)==False:\n",
    "        to_delete = state.index('Funcional')\n",
    "        df_raw = df_raw.drop(indice[to_delete])"
   ]
  },
  {
   "cell_type": "code",
   "execution_count": 163,
   "metadata": {},
   "outputs": [
    {
     "data": {
      "text/html": [
       "<div>\n",
       "<style scoped>\n",
       "    .dataframe tbody tr th:only-of-type {\n",
       "        vertical-align: middle;\n",
       "    }\n",
       "\n",
       "    .dataframe tbody tr th {\n",
       "        vertical-align: top;\n",
       "    }\n",
       "\n",
       "    .dataframe thead th {\n",
       "        text-align: right;\n",
       "    }\n",
       "</style>\n",
       "<table border=\"1\" class=\"dataframe\">\n",
       "  <thead>\n",
       "    <tr style=\"text-align: right;\">\n",
       "      <th></th>\n",
       "      <th>tesName</th>\n",
       "      <th>tags</th>\n",
       "      <th>stackw</th>\n",
       "      <th>stackl</th>\n",
       "      <th>stackMoT</th>\n",
       "      <th>stackAu1T</th>\n",
       "      <th>stackAu2T</th>\n",
       "      <th>absorber</th>\n",
       "      <th>membrane</th>\n",
       "      <th>RN</th>\n",
       "      <th>TC0</th>\n",
       "    </tr>\n",
       "  </thead>\n",
       "  <tbody>\n",
       "    <tr>\n",
       "      <th>0</th>\n",
       "      <td>3Z10_33_34</td>\n",
       "      <td>(EB, Funcional)</td>\n",
       "      <td>30</td>\n",
       "      <td>16</td>\n",
       "      <td>40</td>\n",
       "      <td>15</td>\n",
       "      <td>200</td>\n",
       "      <td>no</td>\n",
       "      <td>no</td>\n",
       "      <td>16.0</td>\n",
       "      <td>[92]</td>\n",
       "    </tr>\n",
       "    <tr>\n",
       "      <th>1</th>\n",
       "      <td>3Z10_53_13</td>\n",
       "      <td>(EB, Funcional)</td>\n",
       "      <td>16</td>\n",
       "      <td>10</td>\n",
       "      <td>40</td>\n",
       "      <td>15</td>\n",
       "      <td>200</td>\n",
       "      <td>no</td>\n",
       "      <td>no</td>\n",
       "      <td>19.0</td>\n",
       "      <td>[100]</td>\n",
       "    </tr>\n",
       "    <tr>\n",
       "      <th>2</th>\n",
       "      <td>3Z10_53_33</td>\n",
       "      <td>(EB, Funcional)</td>\n",
       "      <td>10</td>\n",
       "      <td>16</td>\n",
       "      <td>40</td>\n",
       "      <td>15</td>\n",
       "      <td>200</td>\n",
       "      <td>no</td>\n",
       "      <td>no</td>\n",
       "      <td>48.0</td>\n",
       "      <td>[85]</td>\n",
       "    </tr>\n",
       "    <tr>\n",
       "      <th>3</th>\n",
       "      <td>3Z10_64_14</td>\n",
       "      <td>(EB, Funcional)</td>\n",
       "      <td>16</td>\n",
       "      <td>8</td>\n",
       "      <td>40</td>\n",
       "      <td>15</td>\n",
       "      <td>200</td>\n",
       "      <td>no</td>\n",
       "      <td>no</td>\n",
       "      <td>15.0</td>\n",
       "      <td>[170]</td>\n",
       "    </tr>\n",
       "    <tr>\n",
       "      <th>4</th>\n",
       "      <td>3Z10_64_41</td>\n",
       "      <td>(EB, Funcional)</td>\n",
       "      <td>16</td>\n",
       "      <td>24</td>\n",
       "      <td>40</td>\n",
       "      <td>15</td>\n",
       "      <td>200</td>\n",
       "      <td>no</td>\n",
       "      <td>no</td>\n",
       "      <td>43.0</td>\n",
       "      <td>[90]</td>\n",
       "    </tr>\n",
       "  </tbody>\n",
       "</table>\n",
       "</div>"
      ],
      "text/plain": [
       "      tesName             tags  stackw  stackl  stackMoT  stackAu1T  \\\n",
       "0  3Z10_33_34  (EB, Funcional)      30      16        40         15   \n",
       "1  3Z10_53_13  (EB, Funcional)      16      10        40         15   \n",
       "2  3Z10_53_33  (EB, Funcional)      10      16        40         15   \n",
       "3  3Z10_64_14  (EB, Funcional)      16       8        40         15   \n",
       "4  3Z10_64_41  (EB, Funcional)      16      24        40         15   \n",
       "\n",
       "   stackAu2T absorber membrane    RN    TC0  \n",
       "0        200       no       no  16.0   [92]  \n",
       "1        200       no       no  19.0  [100]  \n",
       "2        200       no       no  48.0   [85]  \n",
       "3        200       no       no  15.0  [170]  \n",
       "4        200       no       no  43.0   [90]  "
      ]
     },
     "execution_count": 163,
     "metadata": {},
     "output_type": "execute_result"
    }
   ],
   "source": [
    "column_names_to_aggregate = list(df_raw.columns)\n",
    "column_names_to_aggregate.pop(column_names_to_aggregate.index('TC0'))\n",
    "df_agg = df_raw.groupby(column_names_to_aggregate)['TC0'].apply(lambda x: list(x)).reset_index(name='TC0')\n",
    "df_agg.head()"
   ]
  },
  {
   "cell_type": "code",
   "execution_count": 165,
   "metadata": {},
   "outputs": [
    {
     "data": {
      "text/plain": [
       "Series([], Name: tesName, dtype: object)"
      ]
     },
     "execution_count": 165,
     "metadata": {},
     "output_type": "execute_result"
    }
   ],
   "source": [
    "df_agg['tesName'][df_agg['tesName'].duplicated()]"
   ]
  },
  {
   "attachments": {},
   "cell_type": "markdown",
   "metadata": {},
   "source": [
    "# Saving data"
   ]
  },
  {
   "cell_type": "code",
   "execution_count": 169,
   "metadata": {},
   "outputs": [],
   "source": [
    "store_path = os.path.join(parent_path,'OutputData')\n",
    "file_path_out = os.path.join(store_path,'df_agg.pickle')\n",
    "with open(file_path_out, 'wb') as handle:\n",
    "    pickle.dump(df_agg,handle)"
   ]
  }
 ],
 "metadata": {
  "kernelspec": {
   "display_name": "tes",
   "language": "python",
   "name": "python3"
  },
  "language_info": {
   "codemirror_mode": {
    "name": "ipython",
    "version": 3
   },
   "file_extension": ".py",
   "mimetype": "text/x-python",
   "name": "python",
   "nbconvert_exporter": "python",
   "pygments_lexer": "ipython3",
   "version": "3.10.2"
  },
  "orig_nbformat": 4,
  "vscode": {
   "interpreter": {
    "hash": "bd9a4038ff18af5ac5a09ca4cb7daed4962b0cda20163f55b9030d9141f3436a"
   }
  }
 },
 "nbformat": 4,
 "nbformat_minor": 2
}
